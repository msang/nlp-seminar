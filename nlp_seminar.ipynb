{
 "cells": [
  {
   "cell_type": "code",
   "execution_count": null,
   "id": "f8881a96-801e-4e54-b68f-9706ccdfd9d2",
   "metadata": {},
   "outputs": [],
   "source": [
    "!pip install gensim matplotlib nltk numpy pandas scikit-learn seaborn spacy stop_words"
   ]
  },
  {
   "cell_type": "code",
   "execution_count": null,
   "id": "27447cda-20a4-4a63-a0bb-c48e1beb0065",
   "metadata": {},
   "outputs": [],
   "source": [
    "!python -m spacy download it_core_news_sm"
   ]
  },
  {
   "cell_type": "code",
   "execution_count": 1,
   "id": "9bdb6476-34af-437e-9ba4-cae2a67fda5b",
   "metadata": {},
   "outputs": [],
   "source": [
    "import spacy"
   ]
  },
  {
   "cell_type": "code",
   "execution_count": 2,
   "id": "b84796bf-445f-4d38-88a7-8fa3f37fb8a3",
   "metadata": {},
   "outputs": [],
   "source": [
    "nlp = spacy.load(\"it_core_news_sm\")"
   ]
  },
  {
   "cell_type": "markdown",
   "id": "f2303199-6329-420c-bc92-d120cc67d8e7",
   "metadata": {},
   "source": [
    "# Data exploration"
   ]
  },
  {
   "cell_type": "code",
   "execution_count": 50,
   "id": "19219b72-c712-4823-9086-47ccc38574b1",
   "metadata": {},
   "outputs": [
    {
     "data": {
      "text/html": [
       "<div>\n",
       "<style scoped>\n",
       "    .dataframe tbody tr th:only-of-type {\n",
       "        vertical-align: middle;\n",
       "    }\n",
       "\n",
       "    .dataframe tbody tr th {\n",
       "        vertical-align: top;\n",
       "    }\n",
       "\n",
       "    .dataframe thead th {\n",
       "        text-align: right;\n",
       "    }\n",
       "</style>\n",
       "<table border=\"1\" class=\"dataframe\">\n",
       "  <thead>\n",
       "    <tr style=\"text-align: right;\">\n",
       "      <th></th>\n",
       "      <th>id</th>\n",
       "      <th>text</th>\n",
       "      <th>hs</th>\n",
       "      <th>stereotype</th>\n",
       "    </tr>\n",
       "  </thead>\n",
       "  <tbody>\n",
       "    <tr>\n",
       "      <th>0</th>\n",
       "      <td>2066</td>\n",
       "      <td>È terrorismo anche questo, per mettere in uno ...</td>\n",
       "      <td>0</td>\n",
       "      <td>0</td>\n",
       "    </tr>\n",
       "    <tr>\n",
       "      <th>1</th>\n",
       "      <td>2045</td>\n",
       "      <td>@user @user infatti finché ci hanno guadagnato...</td>\n",
       "      <td>0</td>\n",
       "      <td>0</td>\n",
       "    </tr>\n",
       "    <tr>\n",
       "      <th>2</th>\n",
       "      <td>61</td>\n",
       "      <td>Corriere: Tangenti, Mafia Capitale dimenticata...</td>\n",
       "      <td>0</td>\n",
       "      <td>0</td>\n",
       "    </tr>\n",
       "    <tr>\n",
       "      <th>3</th>\n",
       "      <td>1259</td>\n",
       "      <td>@user ad uno ad uno, perché quando i migranti ...</td>\n",
       "      <td>0</td>\n",
       "      <td>0</td>\n",
       "    </tr>\n",
       "    <tr>\n",
       "      <th>4</th>\n",
       "      <td>949</td>\n",
       "      <td>Il divertimento del giorno? Trovare i patrioti...</td>\n",
       "      <td>0</td>\n",
       "      <td>0</td>\n",
       "    </tr>\n",
       "    <tr>\n",
       "      <th>...</th>\n",
       "      <td>...</td>\n",
       "      <td>...</td>\n",
       "      <td>...</td>\n",
       "      <td>...</td>\n",
       "    </tr>\n",
       "    <tr>\n",
       "      <th>6832</th>\n",
       "      <td>9340</td>\n",
       "      <td>Gli stati nazionali devono essere pronti a rin...</td>\n",
       "      <td>0</td>\n",
       "      <td>0</td>\n",
       "    </tr>\n",
       "    <tr>\n",
       "      <th>6833</th>\n",
       "      <td>9121</td>\n",
       "      <td>Il ministro dell'interno della Germania #Horst...</td>\n",
       "      <td>0</td>\n",
       "      <td>0</td>\n",
       "    </tr>\n",
       "    <tr>\n",
       "      <th>6834</th>\n",
       "      <td>8549</td>\n",
       "      <td>#Salvini: In Italia troppi si sono montati la ...</td>\n",
       "      <td>0</td>\n",
       "      <td>0</td>\n",
       "    </tr>\n",
       "    <tr>\n",
       "      <th>6835</th>\n",
       "      <td>9240</td>\n",
       "      <td>@user @user Chi giubila in buona fede non ha c...</td>\n",
       "      <td>0</td>\n",
       "      <td>0</td>\n",
       "    </tr>\n",
       "    <tr>\n",
       "      <th>6836</th>\n",
       "      <td>8000</td>\n",
       "      <td>I giovani cristiani in #Etiopia sono indotti d...</td>\n",
       "      <td>0</td>\n",
       "      <td>1</td>\n",
       "    </tr>\n",
       "  </tbody>\n",
       "</table>\n",
       "<p>6837 rows × 4 columns</p>\n",
       "</div>"
      ],
      "text/plain": [
       "        id                                              text   hs  stereotype\n",
       "0     2066  È terrorismo anche questo, per mettere in uno ...   0           0\n",
       "1     2045  @user @user infatti finché ci hanno guadagnato...   0           0\n",
       "2       61  Corriere: Tangenti, Mafia Capitale dimenticata...   0           0\n",
       "3     1259  @user ad uno ad uno, perché quando i migranti ...   0           0\n",
       "4      949  Il divertimento del giorno? Trovare i patrioti...   0           0\n",
       "...    ...                                                ...  ..         ...\n",
       "6832  9340  Gli stati nazionali devono essere pronti a rin...   0           0\n",
       "6833  9121  Il ministro dell'interno della Germania #Horst...   0           0\n",
       "6834  8549  #Salvini: In Italia troppi si sono montati la ...   0           0\n",
       "6835  9240  @user @user Chi giubila in buona fede non ha c...   0           0\n",
       "6836  8000  I giovani cristiani in #Etiopia sono indotti d...   0           1\n",
       "\n",
       "[6837 rows x 4 columns]"
      ]
     },
     "execution_count": 50,
     "metadata": {},
     "output_type": "execute_result"
    }
   ],
   "source": [
    "import pandas as pd\n",
    "\n",
    "hs_dev = pd.read_csv(\"haspeede2_dev_taskAB.tsv\", sep=\"\\t\")\n",
    "hs_dev"
   ]
  },
  {
   "cell_type": "markdown",
   "id": "38eb98ef-a63d-492f-a48c-51bc985f0909",
   "metadata": {},
   "source": [
    "Get label distributions"
   ]
  },
  {
   "cell_type": "code",
   "execution_count": 4,
   "id": "9b1b57a4-98b7-474e-9c20-93e7524f7f30",
   "metadata": {},
   "outputs": [
    {
     "name": "stdout",
     "output_type": "stream",
     "text": [
      "HS CLASS DISTRIBUTION \n",
      "(raw) \n",
      "0    4071\n",
      "1    2766\n",
      "Name: hs, dtype: int64 \n",
      "(%) \n",
      "0    0.595437\n",
      "1    0.404563\n",
      "Name: hs, dtype: float64\n",
      "\n",
      "STEREOTYPE CLASS DISTRIBUTION \n",
      "(raw) \n",
      "0    3796\n",
      "1    3041\n",
      "Name: stereotype, dtype: int64 \n",
      "(%) \n",
      "0    0.555214\n",
      "1    0.444786\n",
      "Name: stereotype, dtype: float64\n",
      "\n",
      "CO-OCCURRENCE STATISTICS: \n",
      "hs  stereotype\n",
      "0   0             3048\n",
      "    1             1023\n",
      "1   1             2018\n",
      "    0              748\n",
      "Name: stereotype, dtype: int64 \n",
      "\n",
      "AxesSubplot(0.125,0.125;0.775x0.755)\n"
     ]
    },
    {
     "data": {
      "image/png": "[encoded data removed]",
      "text/plain": [
       "<Figure size 432x288 with 1 Axes>"
      ]
     },
     "metadata": {
      "needs_background": "light"
     },
     "output_type": "display_data"
    }
   ],
   "source": [
    "import seaborn as sns\n",
    "\n",
    "hs_raw = hs_dev.hs.value_counts()\n",
    "hs_norm = hs_dev.hs.value_counts(normalize=True)\n",
    "print(f'HS CLASS DISTRIBUTION \\n(raw) \\n{hs_raw} \\n(%) \\n{hs_norm}')\n",
    "ster_raw = hs_dev.stereotype.value_counts()\n",
    "ster_norm = hs_dev.stereotype.value_counts(normalize=True)\n",
    "print(f'\\nSTEREOTYPE CLASS DISTRIBUTION \\n(raw) \\n{ster_raw} \\n(%) \\n{ster_norm}')\n",
    "hs_ster = hs_dev.groupby('hs')['stereotype'].value_counts()\n",
    "print(f'\\nCO-OCCURRENCE STATISTICS: \\n{hs_ster} \\n')\n",
    "#print(sns.barplot(x=hs_norm.index, y=hs_norm))\n",
    "print(sns.barplot(x=ster_norm.index, y=ster_norm))"
   ]
  },
  {
   "cell_type": "markdown",
   "id": "69b3e59e-37f6-4078-be17-88938fb0bdf1",
   "metadata": {},
   "source": [
    "Get most frequent terms and n-grams"
   ]
  },
  {
   "cell_type": "code",
   "execution_count": 5,
   "id": "e5721869-9de4-4e66-9b90-706864ad07f5",
   "metadata": {},
   "outputs": [
    {
     "data": {
      "text/plain": [
       "[(('', '', ''), 149),\n",
       " (('Studentessa', 'cinese', 'morta'), 14),\n",
       " (('#Roma', '#news', ''), 14),\n",
       " (('campo', 'rom', 'via'), 14),\n",
       " (('#news', '#Roma', ''), 14),\n",
       " (('', 'Studentessa', 'cinese'), 12),\n",
       " (('campo', 'nomadi', ''), 12),\n",
       " (('campo', 'nomadi', 'via'), 11),\n",
       " (('campo', 'rom', 'Roma'), 11),\n",
       " (('-', 'Messaggero', '#Roma'), 10),\n",
       " (('', '#ultimenotizie', '#news'), 10),\n",
       " (('#ultimenotizie', '#news', '#notizie:'), 10),\n",
       " (('cinese', 'morta', 'Roma,'), 10),\n",
       " (('campo', 'rom', ''), 10),\n",
       " (('Roma,', 'studentessa', 'cinese'), 10),\n",
       " (('', 'Mafia', 'Capitale,'), 10),\n",
       " (('', 'via', ''), 10),\n",
       " (('morta', 'Roma,', 'fermato'), 9),\n",
       " (('', 'Roma,', 'studentessa'), 9),\n",
       " (('', 'Radio', 'Londra:'), 9)]"
      ]
     },
     "execution_count": 5,
     "metadata": {},
     "output_type": "execute_result"
    }
   ],
   "source": [
    "from nltk import bigrams, trigrams, FreqDist\n",
    "from stop_words import get_stop_words\n",
    "\n",
    "STOPWORDS = get_stop_words('it') + [\"url\", \"user\", \"@user\"]\n",
    "text = [item for tweet in hs_dev['text '] for item in tweet.split(\" \") if item.lower() not in STOPWORDS]\n",
    "hs_text = [item for tweet in hs_dev[hs_dev.hs == 1]['text '] for item in tweet.split(\" \") if item.lower() not in STOPWORDS]\n",
    "ster_text = [item for tweet in hs_dev[hs_dev.stereotype == 1]['text '] for item in tweet.split(\" \") if item.lower() not in STOPWORDS]\n",
    "\n",
    "#find most common terms\n",
    "fdist = FreqDist(ster_text)\n",
    "fdist.most_common(20)\n",
    "\n",
    "#find most common bigrams\n",
    "bgs = bigrams(ster_text)\n",
    "fdist = FreqDist(bgs)\n",
    "fdist.most_common(20)\n",
    "\n",
    "#find most common trigrams\n",
    "tgs = trigrams(text)\n",
    "fdist = FreqDist(tgs)\n",
    "fdist.most_common(20)"
   ]
  },
  {
   "cell_type": "markdown",
   "id": "9c4b432c-69c5-4c60-85c9-06a610f04cdc",
   "metadata": {},
   "source": [
    "# Cleaning and preprocessing\n",
    "\n",
    "* tokenization\n",
    "* stopwords+punctuation removal\n",
    "* lowercasing\n",
    "* lemmatization\n",
    "* ... and many other stuff"
   ]
  },
  {
   "cell_type": "code",
   "execution_count": 69,
   "id": "9380db35-ff9a-4b50-8259-8d962b7a355e",
   "metadata": {},
   "outputs": [
    {
     "data": {
      "text/html": [
       "<div>\n",
       "<style scoped>\n",
       "    .dataframe tbody tr th:only-of-type {\n",
       "        vertical-align: middle;\n",
       "    }\n",
       "\n",
       "    .dataframe tbody tr th {\n",
       "        vertical-align: top;\n",
       "    }\n",
       "\n",
       "    .dataframe thead th {\n",
       "        text-align: right;\n",
       "    }\n",
       "</style>\n",
       "<table border=\"1\" class=\"dataframe\">\n",
       "  <thead>\n",
       "    <tr style=\"text-align: right;\">\n",
       "      <th></th>\n",
       "      <th>id</th>\n",
       "      <th>text</th>\n",
       "      <th>hs</th>\n",
       "      <th>stereotype</th>\n",
       "      <th>preprocessed</th>\n",
       "    </tr>\n",
       "  </thead>\n",
       "  <tbody>\n",
       "    <tr>\n",
       "      <th>0</th>\n",
       "      <td>2066</td>\n",
       "      <td>È terrorismo anche questo, per mettere in uno ...</td>\n",
       "      <td>0</td>\n",
       "      <td>0</td>\n",
       "      <td>terror mett stat soggezion person rend innocu ...</td>\n",
       "    </tr>\n",
       "    <tr>\n",
       "      <th>1</th>\n",
       "      <td>2045</td>\n",
       "      <td>@user @user infatti finché ci hanno guadagnato...</td>\n",
       "      <td>0</td>\n",
       "      <td>0</td>\n",
       "      <td>infatt finc guadagn camp rom ok alemann ipocr</td>\n",
       "    </tr>\n",
       "    <tr>\n",
       "      <th>2</th>\n",
       "      <td>61</td>\n",
       "      <td>Corriere: Tangenti, Mafia Capitale dimenticata...</td>\n",
       "      <td>0</td>\n",
       "      <td>0</td>\n",
       "      <td>corr tangent maf capital dimenticatamazzett bu...</td>\n",
       "    </tr>\n",
       "    <tr>\n",
       "      <th>3</th>\n",
       "      <td>1259</td>\n",
       "      <td>@user ad uno ad uno, perché quando i migranti ...</td>\n",
       "      <td>0</td>\n",
       "      <td>0</td>\n",
       "      <td>quand migrant israel arriv terr canaan fuor ca...</td>\n",
       "    </tr>\n",
       "    <tr>\n",
       "      <th>4</th>\n",
       "      <td>949</td>\n",
       "      <td>Il divertimento del giorno? Trovare i patrioti...</td>\n",
       "      <td>0</td>\n",
       "      <td>0</td>\n",
       "      <td>divert giorn trov patriot italian innegg rom s...</td>\n",
       "    </tr>\n",
       "    <tr>\n",
       "      <th>...</th>\n",
       "      <td>...</td>\n",
       "      <td>...</td>\n",
       "      <td>...</td>\n",
       "      <td>...</td>\n",
       "      <td>...</td>\n",
       "    </tr>\n",
       "    <tr>\n",
       "      <th>6832</th>\n",
       "      <td>9340</td>\n",
       "      <td>Gli stati nazionali devono essere pronti a rin...</td>\n",
       "      <td>0</td>\n",
       "      <td>0</td>\n",
       "      <td>stat nazional dev esser pront rinunc propr sov...</td>\n",
       "    </tr>\n",
       "    <tr>\n",
       "      <th>6833</th>\n",
       "      <td>9121</td>\n",
       "      <td>Il ministro dell'interno della Germania #Horst...</td>\n",
       "      <td>0</td>\n",
       "      <td>0</td>\n",
       "      <td>ministr dell'intern german horstseehofer propo...</td>\n",
       "    </tr>\n",
       "    <tr>\n",
       "      <th>6834</th>\n",
       "      <td>8549</td>\n",
       "      <td>#Salvini: In Italia troppi si sono montati la ...</td>\n",
       "      <td>0</td>\n",
       "      <td>0</td>\n",
       "      <td>salvin ital tropp mont test ringraz dio mes st...</td>\n",
       "    </tr>\n",
       "    <tr>\n",
       "      <th>6835</th>\n",
       "      <td>9240</td>\n",
       "      <td>@user @user Chi giubila in buona fede non ha c...</td>\n",
       "      <td>0</td>\n",
       "      <td>0</td>\n",
       "      <td>giubil buon fed cap nient purtropp cred buon f...</td>\n",
       "    </tr>\n",
       "    <tr>\n",
       "      <th>6836</th>\n",
       "      <td>8000</td>\n",
       "      <td>I giovani cristiani in #Etiopia sono indotti d...</td>\n",
       "      <td>0</td>\n",
       "      <td>1</td>\n",
       "      <td>giovan cristian etiop indott islam convert all...</td>\n",
       "    </tr>\n",
       "  </tbody>\n",
       "</table>\n",
       "<p>6837 rows × 5 columns</p>\n",
       "</div>"
      ],
      "text/plain": [
       "        id                                              text   hs  stereotype  \\\n",
       "0     2066  È terrorismo anche questo, per mettere in uno ...   0           0   \n",
       "1     2045  @user @user infatti finché ci hanno guadagnato...   0           0   \n",
       "2       61  Corriere: Tangenti, Mafia Capitale dimenticata...   0           0   \n",
       "3     1259  @user ad uno ad uno, perché quando i migranti ...   0           0   \n",
       "4      949  Il divertimento del giorno? Trovare i patrioti...   0           0   \n",
       "...    ...                                                ...  ..         ...   \n",
       "6832  9340  Gli stati nazionali devono essere pronti a rin...   0           0   \n",
       "6833  9121  Il ministro dell'interno della Germania #Horst...   0           0   \n",
       "6834  8549  #Salvini: In Italia troppi si sono montati la ...   0           0   \n",
       "6835  9240  @user @user Chi giubila in buona fede non ha c...   0           0   \n",
       "6836  8000  I giovani cristiani in #Etiopia sono indotti d...   0           1   \n",
       "\n",
       "                                           preprocessed  \n",
       "0     terror mett stat soggezion person rend innocu ...  \n",
       "1         infatt finc guadagn camp rom ok alemann ipocr  \n",
       "2     corr tangent maf capital dimenticatamazzett bu...  \n",
       "3     quand migrant israel arriv terr canaan fuor ca...  \n",
       "4     divert giorn trov patriot italian innegg rom s...  \n",
       "...                                                 ...  \n",
       "6832  stat nazional dev esser pront rinunc propr sov...  \n",
       "6833  ministr dell'intern german horstseehofer propo...  \n",
       "6834  salvin ital tropp mont test ringraz dio mes st...  \n",
       "6835  giubil buon fed cap nient purtropp cred buon f...  \n",
       "6836  giovan cristian etiop indott islam convert all...  \n",
       "\n",
       "[6837 rows x 5 columns]"
      ]
     },
     "execution_count": 69,
     "metadata": {},
     "output_type": "execute_result"
    }
   ],
   "source": [
    "import re, spacy, string\n",
    "from nltk.tokenize import word_tokenize\n",
    "from nltk.stem import SnowballStemmer\n",
    "\n",
    "\n",
    "def preprocess(sentence):\n",
    "    #remove digits\n",
    "    text = re.sub('\\d+', '', sentence)\n",
    "    #remove extra whitespaces\n",
    "    text = re.sub('\\s+', ' ', text)\n",
    "    #tokenization\n",
    "    text = word_tokenize(text)\n",
    "    #stopwords/punctuation removal + lowercasing\n",
    "    text = [token.lower() for token in text if token.lower() not in STOPWORDS and token not in string.punctuation]\n",
    "    #lemmatization\n",
    "    #sent = \" \".join(text)\n",
    "    #text = [token.lemma_ for token in nlp(sent)]\n",
    "    #stemming\n",
    "    stemmer = SnowballStemmer('italian')\n",
    "    text = [stemmer.stem(token) for token in text]\n",
    "    #other possible operations: handle emojis/emoticons, hashtags, URLs/email addresses, twitter handles \n",
    "    return \" \".join(text) \n",
    "  \n",
    "\n",
    "hs_dev['preprocessed'] = hs_dev['text '].apply(lambda x: preprocess(x))\n",
    "hs_dev"
   ]
  },
  {
   "cell_type": "markdown",
   "id": "5da1caa7-5ab1-42b9-b5f3-a8a4bac4a13a",
   "metadata": {
    "tags": []
   },
   "source": [
    "# Train-Test/Validation split\n",
    "(In this case we already have a held-out test set, but you might want to use a validation set as well for hyper-parameter tuning)\n"
   ]
  },
  {
   "cell_type": "code",
   "execution_count": 70,
   "id": "d73cb891-5037-4849-aa54-c357fa18c73c",
   "metadata": {},
   "outputs": [
    {
     "data": {
      "text/plain": [
       "0       terror mett stat soggezion person rend innocu ...\n",
       "1           infatt finc guadagn camp rom ok alemann ipocr\n",
       "2       corr tangent maf capital dimenticatamazzett bu...\n",
       "3       quand migrant israel arriv terr canaan fuor ca...\n",
       "4       divert giorn trov patriot italian innegg rom s...\n",
       "                              ...                        \n",
       "6832    stat nazional dev esser pront rinunc propr sov...\n",
       "6833    ministr dell'intern german horstseehofer propo...\n",
       "6834    salvin ital tropp mont test ringraz dio mes st...\n",
       "6835    giubil buon fed cap nient purtropp cred buon f...\n",
       "6836    giovan cristian etiop indott islam convert all...\n",
       "Name: preprocessed, Length: 6837, dtype: object"
      ]
     },
     "execution_count": 70,
     "metadata": {},
     "output_type": "execute_result"
    }
   ],
   "source": [
    "from sklearn.model_selection import train_test_split\n",
    "\n",
    "#if you split into train and validation sets:\n",
    "X_train_hs, X_val_hs, y_train_hs, y_val_hs = train_test_split(hs_dev[\"preprocessed\"],hs_dev[\"hs\"],test_size=0.1, shuffle=False)\n",
    "\n",
    "#if you just use the whole training set without hyper-parameter tuning:\n",
    "X_train_hs = hs_dev[\"preprocessed\"]\n",
    "y_train_hs = hs_dev[\"hs\"]\n",
    "\n",
    "X_train_hs\n",
    "\n"
   ]
  },
  {
   "cell_type": "markdown",
   "id": "10f621a0-d7d2-4f5b-a544-0bf49fcbe693",
   "metadata": {},
   "source": [
    "# Feature extraction and modeling"
   ]
  },
  {
   "cell_type": "code",
   "execution_count": 72,
   "id": "a66791ad-6ace-4f3a-bfcd-f2496ecd37f4",
   "metadata": {},
   "outputs": [
    {
     "data": {
      "text/plain": [
       "LinearSVC()"
      ]
     },
     "execution_count": 72,
     "metadata": {},
     "output_type": "execute_result"
    }
   ],
   "source": [
    "from sklearn.feature_extraction.text import CountVectorizer, TfidfVectorizer\n",
    "from sklearn.svm import LinearSVC\n",
    "\n",
    "#create feature vectors\n",
    "count = CountVectorizer(analyzer='word', max_features=5000)\n",
    "count_train = count.fit_transform(X_train_hs)\n",
    "tfidf = TfidfVectorizer(analyzer='word', max_features=5000)\n",
    "tfidf_train = tfidf.fit_transform(X_train_hs)\n",
    "### TODO: add w2v + BERT as feature vectors\n",
    "\n",
    "#fit the classifier on the training data\n",
    "svm = LinearSVC() # we use a linear SVM with default parameters\n",
    "svm_tfidf = LinearSVC()\n",
    "svm.fit(count_train, y_train_hs)\n",
    "svm_tfidf.fit(tfidf_train, y_train_hs)\n",
    "\n"
   ]
  },
  {
   "cell_type": "markdown",
   "id": "a443801b-8296-4c1f-a3ca-7d2a73ab35a3",
   "metadata": {},
   "source": [
    "# Evaluation and error analysis"
   ]
  },
  {
   "cell_type": "code",
   "execution_count": 74,
   "id": "d955b2b6-0884-4f54-b505-825e9f019da0",
   "metadata": {},
   "outputs": [
    {
     "name": "stdout",
     "output_type": "stream",
     "text": [
      "              precision    recall  f1-score   support\n",
      "\n",
      "           0       0.72      0.70      0.71       641\n",
      "           1       0.70      0.71      0.71       622\n",
      "\n",
      "    accuracy                           0.71      1263\n",
      "   macro avg       0.71      0.71      0.71      1263\n",
      "weighted avg       0.71      0.71      0.71      1263\n",
      "\n",
      "              precision    recall  f1-score   support\n",
      "\n",
      "           0       0.76      0.75      0.75       641\n",
      "           1       0.74      0.75      0.75       622\n",
      "\n",
      "    accuracy                           0.75      1263\n",
      "   macro avg       0.75      0.75      0.75      1263\n",
      "weighted avg       0.75      0.75      0.75      1263\n",
      "\n"
     ]
    }
   ],
   "source": [
    "from sklearn.metrics import classification_report, confusion_matrix\n",
    "\n",
    "hs_test = pd.read_csv(\"haspeede2_reference_taskAB-tweets.tsv\", sep=\"\\t\", names=['id','text','hs','stereotype'])\n",
    "#hs_test_news = pd.read_csv(\"haspeede2_reference_taskAB-news.tsv\", sep=\"\\t\", names=['id','text','hs','stereotype'])\n",
    "\n",
    "#we transform into vectors the test data as well\n",
    "X_test_count = count.transform(hs_test_tweet['text'].apply(lambda x: preprocess(x)))\n",
    "X_test_tfidf = tfidf.transform(hs_test_tweet['text'].apply(lambda x: preprocess(x)))\n",
    "y_test = hs_test_tweet['hs']\n",
    "\n",
    "y_true, y_pred = y_test, svm.predict(X_test_count)\n",
    "print(classification_report(y_true, y_pred))\n",
    "\n",
    "y_true, y_pred = y_test, svm_tfidf.predict(X_test_tfidf)\n",
    "print(classification_report(y_true, y_pred))"
   ]
  },
  {
   "cell_type": "code",
   "execution_count": null,
   "id": "d32c0121-e41c-45c7-b552-4caa73832eb7",
   "metadata": {},
   "outputs": [],
   "source": []
  }
 ],
 "metadata": {
  "kernelspec": {
   "display_name": "Python 3 (ipykernel)",
   "language": "python",
   "name": "python3"
  },
  "language_info": {
   "codemirror_mode": {
    "name": "ipython",
    "version": 3
   },
   "file_extension": ".py",
   "mimetype": "text/x-python",
   "name": "python",
   "nbconvert_exporter": "python",
   "pygments_lexer": "ipython3",
   "version": "3.10.4"
  }
 },
 "nbformat": 4,
 "nbformat_minor": 5
}
